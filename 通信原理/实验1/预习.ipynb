{
 "cells": [
  {
   "cell_type": "code",
   "execution_count": null,
   "metadata": {},
   "outputs": [],
   "source": [
    "\"\"\"\n",
    "1.语音信号读写,语音信号的基本特征\n",
    "2.抽取内插滤波\n",
    "3.信号加噪和信噪比统计\n",
    "::录制一段语音，读取、画出信号波形和功率谱\n",
    "::自学：语音信号写入文件\n",
    "::根据抽样率从高倍采集得到的信号中抽取\n",
    "::抗混叠滤波\n",
    "::::方法1: 用APP构造滤波器\n",
    "::::::在python中导入.mat文件\n",
    "::::::用scipy.io.loadmat()函数读取.mat文件\n",
    "或者\n",
    "::::::用scipy.signal.firwin()函数设计滤波器\n",
    "::::::用scipy.signal.lfilter()函数实现滤波\n",
    "\"\"\""
   ]
  },
  {
   "cell_type": "code",
   "execution_count": null,
   "metadata": {},
   "outputs": [],
   "source": [
    "# 导入库\n",
    "import numpy as np\n",
    "import matplotlib.pyplot as plt\n",
    "import scipy.io.wavfile as wav\n",
    "import scipy.signal as signal\n",
    "import scipy.io as io"
   ]
  },
  {
   "cell_type": "code",
   "execution_count": null,
   "metadata": {},
   "outputs": [],
   "source": [
    "# 读取、画出信号波形和功率谱\n",
    "# 读取语音信号\n",
    "# win下读取wav文件\n",
    "# rate, data = wav.read('C:\\\\Users\\\\88486\\\\Desktop\\\\WorkSpace\\\\Up&Load\\\\通信原理\\\\suno.wav')\n",
    "\n",
    "# linux下读取wav文件\n",
    "rate, data = wav.read('/home/yfc/文档/GitHub/Up-Load/通信原理/suno.wav')\n",
    "\n",
    "# 画出信号波形\n",
    "plt.figure()\n",
    "plt.plot(data)\n",
    "plt.title('voice wave')\n",
    "plt.show()\n",
    "\n",
    "# 计算功率谱\n",
    "\"\"\"\n",
    "f:返回的频率数组;\n",
    "Pxx:对应每个频率点的功率谱密度值。\n",
    "\"\"\"\n",
    "f, Pxx = signal.periodogram(data, rate)\n",
    "# 公式计算功率谱:\n",
    "data_FFT=np.fft.fft(data)\n",
    "Pf=abs(data_FFT)**2/len(data)\n",
    "f=np.linspace(0,rate,len(data))\n",
    "\n",
    "# 画出功率谱\n",
    "plt.figure()\n",
    "plt.plot(f, Pxx)\n",
    "plt.title('voice psd')\n",
    "plt.show()\n"
   ]
  },
  {
   "cell_type": "markdown",
   "metadata": {},
   "source": [
    "抗混叠滤波（Anti-Aliasing Filter）是信号处理中的一种低通滤波器，用于限制信号的带宽，防止高频信号混叠到低频带中。在数字信号处理中，特别是在模拟信号转换为数字信号的过程中，抗混叠滤波器是非常关键的。\n",
    "\n",
    "混叠现象发生在采样过程中，当模拟信号包含频率高于采样频率一半（奈奎斯特频率）的分量时，这些高频分量在数字化的过程中会被折叠到低频范围内，从而导致信号失真。抗混叠滤波器的作用就是在采样之前过滤掉这些高于奈奎斯特频率的信号分量，确保采样后的数字信号能够忠实地表示原始的模拟信号。\n",
    "\n",
    "例如，如果我们要对一个音频信号进行数字化，采样频率可能是44.1 kHz，这意味着所有超过22.05 kHz的频率分量都需要被过滤掉，以避免混叠现象。抗混叠滤波器通常设计为在截止频率（即采样频率的一半）处提供足够的衰减，以确保混叠分量不会对信号质量产生显著影响。\n",
    "\n",
    "在图像处理中，抗混叠滤波器也用于减少或消除图像中的锯齿效果（aliasing），特别是在图像放大或从栅格图像生成矢量图像时。通过在采样之前对图像进行模糊处理，可以减少高频分量的影响，从而减少混叠现象。"
   ]
  },
  {
   "cell_type": "code",
   "execution_count": null,
   "metadata": {},
   "outputs": [],
   "source": [
    "from scipy import signal\n",
    "import numpy as np\n",
    "import matplotlib.pyplot as plt\n",
    "# Butterworth低通滤波器设计\n",
    "def design_lowpass_filter(cutoff_frequency, sample_rate, filter_order):\n",
    "    nyquist_rate = sample_rate / 2.0\n",
    "    normal_cutoff = cutoff_frequency / nyquist_rate\n",
    "    b, a = signal.butter(filter_order, normal_cutoff, btype='low', analog=False)\n",
    "    return b, a\n",
    "# 应用滤波器\n",
    "def apply_lowpass_filter(data, cutoff_frequency, sample_rate, filter_order):\n",
    "    b, a = design_lowpass_filter(cutoff_frequency, sample_rate, filter_order)\n",
    "    filtered_data = signal.filtfilt(b, a, data)\n",
    "    return filtered_data\n",
    "# 示例数据\n",
    "sample_rate = 1000  # 1000 Hz的"
   ]
  }
 ],
 "metadata": {
  "kernelspec": {
   "display_name": "Py_data",
   "language": "python",
   "name": "python3"
  },
  "language_info": {
   "codemirror_mode": {
    "name": "ipython",
    "version": 3
   },
   "file_extension": ".py",
   "mimetype": "text/x-python",
   "name": "python",
   "nbconvert_exporter": "python",
   "pygments_lexer": "ipython3",
   "version": "3.10.13"
  }
 },
 "nbformat": 4,
 "nbformat_minor": 2
}
