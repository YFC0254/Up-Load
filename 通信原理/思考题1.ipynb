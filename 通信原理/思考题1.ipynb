{
 "cells": [
  {
   "cell_type": "code",
   "execution_count": 8,
   "metadata": {},
   "outputs": [
    {
     "name": "stdout",
     "output_type": "stream",
     "text": [
      "48000 [[-30 -37]\n",
      " [-42 -50]\n",
      " [-35 -42]\n",
      " ...\n",
      " [-31 -40]\n",
      " [-37 -46]\n",
      " [-30 -37]]\n"
     ]
    }
   ],
   "source": [
    "import numpy as np\n",
    "from scipy.io.wavfile import read\n",
    "\n",
    "# 读取wav文件，得到采样率和数据\n",
    "sample_rate, data = read('C:\\\\Users\\\\88486\\\\Desktop\\\\WorkSpace\\\\Python\\\\通信原理\\\\suno.wav') #windows路径\n",
    "print(sample_rate,data)\n",
    "# 创建载波信号\n",
    "time = np.arange(len(data))/float(sample_rate)#载波时间\n",
    "carrier_freq=sample_rate*2#载波频率,"
   ]
  },
  {
   "cell_type": "code",
   "execution_count": 10,
   "metadata": {},
   "outputs": [],
   "source": [
    "carrier = np.cos(2.0 * np.pi * carrier_freq * time)#产生载波信号\n",
    "modulated_data = np.empty_like(data)\n",
    "modulated_data[:, 0] = carrier * data[:, 0]#左声道调制\n",
    "modulated_data[:, 1] = carrier * data[:, 1]#右声道调制\n"
   ]
  },
  {
   "cell_type": "code",
   "execution_count": null,
   "metadata": {},
   "outputs": [],
   "source": []
  }
 ],
 "metadata": {
  "kernelspec": {
   "display_name": "yolov5",
   "language": "python",
   "name": "python3"
  },
  "language_info": {
   "codemirror_mode": {
    "name": "ipython",
    "version": 3
   },
   "file_extension": ".py",
   "mimetype": "text/x-python",
   "name": "python",
   "nbconvert_exporter": "python",
   "pygments_lexer": "ipython3",
   "version": "3.10.13"
  }
 },
 "nbformat": 4,
 "nbformat_minor": 2
}
