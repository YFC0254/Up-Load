{
 "cells": [
  {
   "cell_type": "code",
   "execution_count": 10,
   "metadata": {},
   "outputs": [
    {
     "name": "stdout",
     "output_type": "stream",
     "text": [
      "48000 [[-30 -37]\n",
      " [-42 -50]\n",
      " [-35 -42]\n",
      " ...\n",
      " [-31 -40]\n",
      " [-37 -46]\n",
      " [-30 -37]]\n"
     ]
    }
   ],
   "source": [
    "import numpy as np\n",
    "from scipy.io.wavfile import read\n",
    "import matplotlib.pyplot as plt\n",
    "\n",
    "# 读取wav文件，得到采样率和数据\n",
    "\n",
    "# sample_rate, data = read('C:\\\\Users\\\\88486\\\\Desktop\\\\WorkSpace\\\\Python\\\\通信原理\\\\suno.wav') #windows路径\n",
    "\n",
    "sample_rate, data = read('suno.wav') #linux路径\n",
    "print(sample_rate,data)\n",
    "# 创建载波信号\n",
    "time = np.arange(len(data))/float(sample_rate)#载波时间\n",
    "carrier_freq=sample_rate*2#载波频率\n"
   ]
  },
  {
   "cell_type": "code",
   "execution_count": 11,
   "metadata": {},
   "outputs": [],
   "source": [
    "carrier = np.cos(2.0 * np.pi * carrier_freq * time)#产生载波信号\n",
    "modulated_data = np.empty_like(data)\n",
    "modulated_data[:, 0] = carrier * data[:, 0]#左声道调制\n",
    "modulated_data[:, 1] = carrier * data[:, 1]#右声道调制\n"
   ]
  },
  {
   "cell_type": "code",
   "execution_count": 28,
   "metadata": {},
   "outputs": [
    {
     "name": "stdout",
     "output_type": "stream",
     "text": [
      "max(cha[:,0]):2\n",
      "max(cha[:,1]):2\n",
      "max(data[:,0]):26626\n",
      "max(data[:,1]):27485\n",
      "max(demodulated_data[:,0]):26626\n",
      "max(demodulated_data[:,1]):27485\n",
      "左声道解调成功\n",
      "右声道解调成功\n"
     ]
    }
   ],
   "source": [
    "# 接下来对AM信号进行解调\n",
    "# 生成解调信号\n",
    "demodulated_data = np.empty_like(modulated_data)\n",
    "demodulated_data[:, 0] = modulated_data[:, 0] * carrier#左声道解调\n",
    "demodulated_data[:, 1] = modulated_data[:, 1] * carrier#右声道解调\n",
    "# plt.figure()\n",
    "# plt.plot(demodulated_data)\n",
    "# if(demodulated_data==data).all():\n",
    "#     print(\"解调成功\")\n",
    "# else:\n",
    "#     print(\"解调失败\")\n",
    "cha=demodulated_data-data\n",
    "print(\"max(cha[:,0]):{}\".format(max(cha[:,0])))\n",
    "print(f\"max(cha[:,1]):{max(cha[:,1])}\")\n",
    "print(f\"max(data[:,0]):{max(data[:,0])}\")\n",
    "print(f\"max(data[:,1]):{max(data[:,1])}\")\n",
    "print(f\"max(demodulated_data[:,0]):{max(demodulated_data[:,0])}\")\n",
    "print(f\"max(demodulated_data[:,1]):{max(demodulated_data[:,1])}\")\n",
    "if(max(cha[0])//max(data[:,0])<0.001):\n",
    "    print(\"左声道解调成功\")\n",
    "else:\n",
    "    print(\"左声道解调失败\")\n",
    "\n",
    "if(max(cha[1])//max(data[:,1])<0.001):\n",
    "    print(\"右声道解调成功\")\n",
    "else:\n",
    "    print(\"右声道解调失败\")\n",
    "\n",
    "# for i in range(0,len(data)):\n",
    "# print(cha)\n",
    "# sum_left=sum_right=0\n",
    "# for i in range(0,len(cha)):\n",
    "#     if cha[i][0]!=0:\n",
    "#         sum_left+=1\n",
    "#     if cha[i][1]!=0:\n",
    "#         sum_right+=1\n",
    "# print(f\"sum_left:{sum_left}\")\n",
    "# print(f\"sum_right:{sum_right}\")\n",
    "\n",
    "# if(demodulated_data[:,0]==data[:,0]).all():\n",
    "#     print(\"左声道解调成功\")\n",
    "# else:\n",
    "#     print(\"左声道解调失败\")\n",
    "# if(demodulated_data[:,1]==data[:,1]).all():\n",
    "#     print(\"右声道解调成功\")\n",
    "# else:\n",
    "#     print(\"右声道解调失败\")"
   ]
  },
  {
   "cell_type": "code",
   "execution_count": 17,
   "metadata": {},
   "outputs": [
    {
     "name": "stdout",
     "output_type": "stream",
     "text": [
      "4752000\n"
     ]
    }
   ],
   "source": [
    "print(len(data))"
   ]
  },
  {
   "cell_type": "code",
   "execution_count": null,
   "metadata": {},
   "outputs": [],
   "source": [
    "import numpy as np\n",
    "import matplotlib.pyplot as plt\n",
    "\n",
    "# 定义参数\n",
    "sample_rate = 1000 # 采样率\n",
    "carrier_freq = 50 # 载波频率\n",
    "time = np.arange(0, 1, 1/sample_rate) # 时间数组\n",
    "\n",
    "# 生成载波信号\n",
    "carrier = np.cos(2 * np.pi * carrier_freq * time)\n",
    "\n",
    "# 绘制载波信号\n",
    "plt.figure()\n",
    "plt.plot(time, carrier)\n",
    "plt.xlabel('Time (s)')\n",
    "plt.ylabel('Amplitude')\n",
    "plt.title('Carrier signal')\n",
    "plt.grid(True)\n",
    "plt.show()"
   ]
  },
  {
   "cell_type": "code",
   "execution_count": null,
   "metadata": {},
   "outputs": [],
   "source": []
  }
 ],
 "metadata": {
  "kernelspec": {
   "display_name": "yolov5",
   "language": "python",
   "name": "python3"
  },
  "language_info": {
   "codemirror_mode": {
    "name": "ipython",
    "version": 3
   },
   "file_extension": ".py",
   "mimetype": "text/x-python",
   "name": "python",
   "nbconvert_exporter": "python",
   "pygments_lexer": "ipython3",
   "version": "3.10.13"
  }
 },
 "nbformat": 4,
 "nbformat_minor": 2
}
